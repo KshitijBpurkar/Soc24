{
  "cells": [
    {
      "cell_type": "code",
      "execution_count": 1,
      "metadata": {
        "id": "985zKR0sXxZw"
      },
      "outputs": [],
      "source": [
        "#Importing modules\n",
        "import torch\n",
        "import torch.nn as nn"
      ]
    },
    {
      "cell_type": "code",
      "execution_count": 2,
      "metadata": {
        "id": "Oq7VM7ISZUFa"
      },
      "outputs": [],
      "source": [
        "#Creating a block\n",
        "class block(nn.Module):\n",
        "  def __init__(self, in_channels,out_channels,identity_downsample=None,stride=1):\n",
        "    super(block,self).__init__()\n",
        "\n",
        "    self.expansion=4\n",
        "    self.conv1=nn.Conv2d(in_channels,out_channels,kernel_size=1,stride=1,padding=0)\n",
        "    self.bn1=nn.BatchNorm2d(out_channels)\n",
        "    self.conv2=nn.Conv2d(out_channels,out_channels,kernel_size=3,stride=stride,padding=1)\n",
        "    self.bn2=nn.BatchNorm2d(out_channels)\n",
        "    self.conv3=nn.Conv2d(out_channels,out_channels*self.expansion,kernel_size=1,stride=1,padding=0)\n",
        "    self.bn3=nn.BatchNorm2d(out_channels*self.expansion)\n",
        "    self.relu=nn.ReLU()\n",
        "    self.identity=identity_downsample\n",
        "\n",
        "  def forward(self,x):\n",
        "    id=x\n",
        "\n",
        "    x=self.conv1(x)\n",
        "    x=self.bn1(x)\n",
        "    x=self.relu(x)\n",
        "    x=self.conv2(x)\n",
        "    x=self.bn2(x)\n",
        "    x=self.relu(x)\n",
        "    x=self.conv3(x)\n",
        "    x=self.bn3(x)\n",
        "\n",
        "    if self.identity is not None: #Adding output of the preceeding block by using self.identity to properly transform it\n",
        "       id=self.identity(id)\n",
        "    x+=id\n",
        "    x=self.relu(x)\n",
        "    return x"
      ]
    },
    {
      "cell_type": "code",
      "execution_count": 3,
      "metadata": {
        "id": "p8-VTh3gb75L"
      },
      "outputs": [],
      "source": [
        "class ResNet(nn.Module):\n",
        "  def __init__(self,block,layers,img_channels,n_classes):\n",
        "    super(ResNet,self).__init__()\n",
        "\n",
        "    self.in_channels=64\n",
        "    self.conv1=nn.Conv2d(img_channels,64,kernel_size=7,stride=2,padding=3)\n",
        "    self.bn1=nn.BatchNorm2d(64)\n",
        "    self.relu=nn.ReLU()\n",
        "    self.maxpool=nn.MaxPool2d(kernel_size=3,stride=2,padding=1)\n",
        "\n",
        "    #Layers consisting of individual blocks\n",
        "    self.layer1=self._make_layer(block,layers[0],out_channels=64,stride=1)\n",
        "    self.layer2=self._make_layer(block,layers[1],out_channels=128,stride=2)\n",
        "    self.layer3=self._make_layer(block,layers[2],out_channels=256,stride=2)\n",
        "    self.layer4=self._make_layer(block,layers[3],out_channels=512,stride=2)\n",
        "\n",
        "    self.avgpool=nn.AdaptiveAvgPool2d((1,1))\n",
        "    self.fc=nn.Linear(512*4,n_classes)\n",
        "\n",
        "  def forward(self,x):\n",
        "    x=self.conv1(x)\n",
        "    x=self.bn1(x)\n",
        "    x=self.relu(x)\n",
        "    x=self.maxpool(x)\n",
        "\n",
        "    x=self.layer1(x)\n",
        "    x=self.layer2(x)\n",
        "    x=self.layer3(x)\n",
        "    x=self.layer4(x)\n",
        "\n",
        "    x=self.avgpool(x)\n",
        "    x=x.reshape((x.shape[0],-1))\n",
        "    x=self.fc(x)\n",
        "    return x\n",
        "\n",
        "  \n",
        "  def _make_layer(self,block,residual_blocks,out_channels,stride):\n",
        "    identity=None\n",
        "    layers=[]\n",
        "\n",
        "    if stride!=1 or self.in_channels!=out_channels*4:\n",
        "      identity=nn.Sequential(\n",
        "          nn.Conv2d(self.in_channels,out_channels*4,kernel_size=1,stride=stride),\n",
        "          nn.BatchNorm2d(out_channels*4)\n",
        "      )\n",
        "    layers.append(block(self.in_channels,out_channels,identity,stride))\n",
        "    self.in_channels=out_channels*4\n",
        "\n",
        "    for i in range(residual_blocks-1):\n",
        "      layers.append(block(self.in_channels,out_channels))\n",
        "\n",
        "    return nn.Sequential(*layers)\n",
        "\n"
      ]
    },
    {
      "cell_type": "code",
      "execution_count": 4,
      "metadata": {
        "colab": {
          "base_uri": "https://localhost:8080/"
        },
        "id": "l8EIfvViisLo",
        "outputId": "5310f399-6a26-426f-de20-42453c37f62d"
      },
      "outputs": [
        {
          "name": "stdout",
          "output_type": "stream",
          "text": [
            "torch.Size([2, 1000])\n"
          ]
        }
      ],
      "source": [
        "def ResNet50(img_channels=3,n_classes=1000): #Creating a ResNet network to test proper structure\n",
        " return ResNet(block,[3,4,6,3],img_channels,n_classes)\n",
        "\n",
        "def test():\n",
        "  net=ResNet50()\n",
        "  x=torch.randn(2,3,224,224)\n",
        "  y=net(x)\n",
        "  print(y.shape)\n",
        "\n",
        "test()\n"
      ]
    }
  ],
  "metadata": {
    "colab": {
      "provenance": []
    },
    "kernelspec": {
      "display_name": "Python 3",
      "name": "python3"
    },
    "language_info": {
      "codemirror_mode": {
        "name": "ipython",
        "version": 3
      },
      "file_extension": ".py",
      "mimetype": "text/x-python",
      "name": "python",
      "nbconvert_exporter": "python",
      "pygments_lexer": "ipython3",
      "version": "3.11.2"
    }
  },
  "nbformat": 4,
  "nbformat_minor": 0
}
