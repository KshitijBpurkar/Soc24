{
  "cells": [
    {
      "cell_type": "code",
      "execution_count": 1,
      "metadata": {
        "id": "fIx82AO3Z1Hc"
      },
      "outputs": [],
      "source": [
        "import torch\n",
        "import torch.nn as nn\n",
        "import torch.optim as optim\n",
        "import torchvision\n",
        "import torchvision.datasets as datasets\n",
        "from torch.utils.data import DataLoader\n",
        "import torchvision.transforms as transforms\n",
        "import matplotlib.pyplot as plt\n",
        "import numpy as np"
      ]
    },
    {
      "cell_type": "code",
      "execution_count": 2,
      "metadata": {
        "id": "w4Zx1fzxbZhl"
      },
      "outputs": [],
      "source": [
        "class discriminator(nn.Module):\n",
        "  def __init__(self,in_channels):\n",
        "    super(discriminator,self).__init__()\n",
        "\n",
        "    self.disc=nn.Sequential(\n",
        "        nn.Linear(in_channels,128),\n",
        "        nn.LeakyReLU(0.1),\n",
        "        nn.Linear(128,1),\n",
        "        nn.Sigmoid()\n",
        "    )\n",
        "\n",
        "  def forward(self,x):\n",
        "      return self.disc(x)"
      ]
    },
    {
      "cell_type": "code",
      "execution_count": 3,
      "metadata": {
        "id": "7qAKp3KvceFP"
      },
      "outputs": [],
      "source": [
        "class generator(nn.Module):\n",
        "  def __init__(self,z_dim,img_dim):\n",
        "    super().__init__()\n",
        "\n",
        "    self.gen=nn.Sequential(\n",
        "        nn.Linear(z_dim,256),\n",
        "        nn.LeakyReLU(0.1),\n",
        "        nn.Linear(256,img_dim),\n",
        "        nn.Tanh()\n",
        "    )\n",
        "  def forward(self,x):\n",
        "    return self.gen(x)\n"
      ]
    },
    {
      "cell_type": "code",
      "execution_count": 4,
      "metadata": {
        "id": "6GN2-FoKdun-"
      },
      "outputs": [],
      "source": [
        "#Hyperparameters\n",
        "device=\"cuda\" if torch.cuda.is_available() else \"cpu\"\n",
        "lr=3e-4\n",
        "z_dim=64\n",
        "img_dim=28*28*1\n",
        "batch_size=32\n",
        "n_epochs=40\n",
        "\n",
        "disc=discriminator(img_dim).to(device)\n",
        "gen=generator(z_dim,img_dim).to(device)\n",
        "fixed_noise=torch.randn((batch_size,z_dim)).to(device)\n",
        "transf=transforms.Compose(\n",
        "    [transforms.ToTensor(),transforms.Normalize((0.5,),(0.5,))]\n",
        ")"
      ]
    },
    {
      "cell_type": "code",
      "execution_count": 5,
      "metadata": {
        "colab": {
          "base_uri": "https://localhost:8080/"
        },
        "id": "oTdbr_ZnfozZ",
        "outputId": "6af1eeac-d70d-444f-c323-1e7512ab3b63"
      },
      "outputs": [
        {
          "name": "stdout",
          "output_type": "stream",
          "text": [
            "Downloading http://yann.lecun.com/exdb/mnist/train-images-idx3-ubyte.gz\n",
            "Failed to download (trying next):\n",
            "HTTP Error 403: Forbidden\n",
            "\n",
            "Downloading https://ossci-datasets.s3.amazonaws.com/mnist/train-images-idx3-ubyte.gz\n",
            "Downloading https://ossci-datasets.s3.amazonaws.com/mnist/train-images-idx3-ubyte.gz to \\dataset/MNIST/raw/train-images-idx3-ubyte.gz\n"
          ]
        },
        {
          "name": "stderr",
          "output_type": "stream",
          "text": [
            "100%|██████████| 9912422/9912422 [00:01<00:00, 6069983.00it/s]\n"
          ]
        },
        {
          "name": "stdout",
          "output_type": "stream",
          "text": [
            "Extracting \\dataset/MNIST/raw/train-images-idx3-ubyte.gz to \\dataset/MNIST/raw\n",
            "\n",
            "Downloading http://yann.lecun.com/exdb/mnist/train-labels-idx1-ubyte.gz\n",
            "Failed to download (trying next):\n",
            "HTTP Error 403: Forbidden\n",
            "\n",
            "Downloading https://ossci-datasets.s3.amazonaws.com/mnist/train-labels-idx1-ubyte.gz\n",
            "Downloading https://ossci-datasets.s3.amazonaws.com/mnist/train-labels-idx1-ubyte.gz to \\dataset/MNIST/raw/train-labels-idx1-ubyte.gz\n"
          ]
        },
        {
          "name": "stderr",
          "output_type": "stream",
          "text": [
            "100%|██████████| 28881/28881 [00:00<00:00, 160358.61it/s]\n"
          ]
        },
        {
          "name": "stdout",
          "output_type": "stream",
          "text": [
            "Extracting \\dataset/MNIST/raw/train-labels-idx1-ubyte.gz to \\dataset/MNIST/raw\n",
            "\n",
            "Downloading http://yann.lecun.com/exdb/mnist/t10k-images-idx3-ubyte.gz\n",
            "Failed to download (trying next):\n",
            "HTTP Error 403: Forbidden\n",
            "\n",
            "Downloading https://ossci-datasets.s3.amazonaws.com/mnist/t10k-images-idx3-ubyte.gz\n",
            "Downloading https://ossci-datasets.s3.amazonaws.com/mnist/t10k-images-idx3-ubyte.gz to \\dataset/MNIST/raw/t10k-images-idx3-ubyte.gz\n"
          ]
        },
        {
          "name": "stderr",
          "output_type": "stream",
          "text": [
            "100%|██████████| 1648877/1648877 [00:05<00:00, 324942.89it/s]\n"
          ]
        },
        {
          "name": "stdout",
          "output_type": "stream",
          "text": [
            "Extracting \\dataset/MNIST/raw/t10k-images-idx3-ubyte.gz to \\dataset/MNIST/raw\n",
            "\n",
            "Downloading http://yann.lecun.com/exdb/mnist/t10k-labels-idx1-ubyte.gz\n",
            "Failed to download (trying next):\n",
            "HTTP Error 403: Forbidden\n",
            "\n",
            "Downloading https://ossci-datasets.s3.amazonaws.com/mnist/t10k-labels-idx1-ubyte.gz\n",
            "Downloading https://ossci-datasets.s3.amazonaws.com/mnist/t10k-labels-idx1-ubyte.gz to \\dataset/MNIST/raw/t10k-labels-idx1-ubyte.gz\n"
          ]
        },
        {
          "name": "stderr",
          "output_type": "stream",
          "text": [
            "100%|██████████| 4542/4542 [00:00<00:00, 3434384.13it/s]"
          ]
        },
        {
          "name": "stdout",
          "output_type": "stream",
          "text": [
            "Extracting \\dataset/MNIST/raw/t10k-labels-idx1-ubyte.gz to \\dataset/MNIST/raw\n",
            "\n"
          ]
        },
        {
          "name": "stderr",
          "output_type": "stream",
          "text": [
            "\n"
          ]
        }
      ],
      "source": [
        "#Data sets\n",
        "dataset=datasets.MNIST(root=\"\\dataset\",transform=transf,download=True)\n",
        "loader=DataLoader(dataset,batch_size=batch_size,shuffle=True)\n",
        "opt_disc=optim.Adam(disc.parameters(),lr=lr)\n",
        "opt_gen=optim.Adam(gen.parameters(),lr=lr)\n",
        "criteria=nn.BCELoss()\n",
        "step=0\n"
      ]
    },
    {
      "cell_type": "code",
      "execution_count": 6,
      "metadata": {
        "colab": {
          "base_uri": "https://localhost:8080/"
        },
        "id": "4rKF8x6KhhsF",
        "outputId": "c5b9e913-06bd-4d92-fe1f-e1c9ff3f3093"
      },
      "outputs": [
        {
          "name": "stdout",
          "output_type": "stream",
          "text": [
            "0\n",
            "10\n",
            "20\n",
            "30\n"
          ]
        }
      ],
      "source": [
        "#Training\n",
        "\n",
        "for epoch in range(n_epochs):\n",
        "  if epoch%10==0:\n",
        "    print(epoch)\n",
        "  for id, (real,_) in enumerate(loader):\n",
        "    real=real.view(-1,784).to(device)\n",
        "    batch_size=real.shape[0]\n",
        "    #Discriminater\n",
        "    noise=torch.randn((batch_size,z_dim)).to(device)\n",
        "    fake=gen(noise)\n",
        "    disc_real=disc(real).view(-1)\n",
        "    lossD_real=criteria(disc_real,torch.ones_like(disc_real))\n",
        "    disc_fake=disc(fake).view(-1)\n",
        "    lossD_fake=criteria(disc_fake,torch.zeros_like(disc_fake))\n",
        "    lossD=0.5*(lossD_fake+lossD_real)\n",
        "    disc.zero_grad()\n",
        "    lossD.backward(retain_graph=True)\n",
        "    opt_disc.step()\n",
        "\n",
        "    #Geneartor\n",
        "    output=disc(fake).view(-1)\n",
        "    lossG=criteria(output,torch.ones_like(output))\n",
        "    gen.zero_grad()\n",
        "    lossG.backward()\n",
        "    opt_gen.step()\n",
        "\n",
        "\n",
        "\n"
      ]
    },
    {
      "cell_type": "code",
      "execution_count": 7,
      "metadata": {
        "colab": {
          "base_uri": "https://localhost:8080/",
          "height": 457
        },
        "id": "TJ4q3F5S1IDd",
        "outputId": "52f1f4bc-e934-4e97-c7b1-c43d32d41b47"
      },
      "outputs": [
        {
          "name": "stdout",
          "output_type": "stream",
          "text": [
            "(10, 28, 28)\n"
          ]
        },
        {
          "data": {
            "image/png": "[encoded data removed]",
            "text/plain": [
              "<Figure size 1000x500 with 10 Axes>"
            ]
          },
          "metadata": {},
          "output_type": "display_data"
        }
      ],
      "source": [
        "#Generating Images\n",
        "size=64\n",
        "random=torch.randn(100,size,device=device)\n",
        "with torch.no_grad():\n",
        " fake=gen(random)\n",
        " disc_fake=disc(fake)\n",
        "\n",
        "image_np=fake[:10].detach().cpu().numpy()\n",
        "image_np=image_np.reshape(10,28,-1)\n",
        "print(image_np.shape)\n",
        "fig, axes = plt.subplots(nrows=2, ncols=5, figsize=(10, 5))\n",
        "for i, ax in enumerate(axes.flat):\n",
        "    ax.imshow(image_np[i], cmap='gray')\n",
        "    ax.axis('off')\n",
        "\n",
        "plt.tight_layout()\n",
        "plt.show()\n",
        "\n"
      ]
    }
  ],
  "metadata": {
    "colab": {
      "provenance": []
    },
    "kernelspec": {
      "display_name": "Python 3",
      "name": "python3"
    },
    "language_info": {
      "name": "python"
    }
  },
  "nbformat": 4,
  "nbformat_minor": 0
}
